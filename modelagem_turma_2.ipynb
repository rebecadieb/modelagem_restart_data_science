{
  "nbformat": 4,
  "nbformat_minor": 0,
  "metadata": {
    "colab": {
      "name": "modelagem_turma_2.ipynb",
      "provenance": [],
      "toc_visible": true
    },
    "kernelspec": {
      "name": "python3",
      "display_name": "Python 3"
    },
    "language_info": {
      "name": "python"
    }
  },
  "cells": [
    {
      "cell_type": "markdown",
      "metadata": {
        "id": "UCSeReV3jzNJ"
      },
      "source": [
        "# **Modelagem - Exemplo prático - Turma 2**"
      ]
    },
    {
      "cell_type": "markdown",
      "metadata": {
        "id": "dpqIt1pNBvou"
      },
      "source": [
        "## **Quais pacotes vamos usar?**"
      ]
    },
    {
      "cell_type": "code",
      "metadata": {
        "id": "Kxr8oCbsLm_B"
      },
      "source": [
        "!pip install Jinja2"
      ],
      "execution_count": null,
      "outputs": []
    },
    {
      "cell_type": "code",
      "metadata": {
        "id": "Jtben-Wt8xgB"
      },
      "source": [
        "import pandas as pd\n",
        "import sklearn\n",
        "import jinja2"
      ],
      "execution_count": null,
      "outputs": []
    },
    {
      "cell_type": "markdown",
      "metadata": {
        "id": "TdKMOG61DpbF"
      },
      "source": [
        "## **Quais os dados?**\n",
        "\n",
        "**Características de 3796 clientes de loja de varejo online do Reino Unido no período de  01/12/2010 a 09/12/2011**\n"
      ]
    },
    {
      "cell_type": "markdown",
      "metadata": {
        "id": "3WALSLfgbHbS"
      },
      "source": [
        "\n",
        "**RFM**\n",
        "*   **Recency (recência):** maior data de compra do cliente - maior data observada no conjunto de dados\n",
        "*   **Frequency (frequência):** quantidade de cupons de compra únicos\n",
        "* **Monetary value (valor monetário):** soma do valor gasto pelo cliente por compra\n",
        "\n"
      ]
    },
    {
      "cell_type": "code",
      "metadata": {
        "id": "vXoq2oRtpzfd"
      },
      "source": [
        "df = pd.read_csv(\"https://raw.githubusercontent.com/rebecadieb/modelagem_restart_data_science/main/customer_data.csv\").drop_duplicates()"
      ],
      "execution_count": null,
      "outputs": []
    },
    {
      "cell_type": "code",
      "metadata": {
        "id": "6QlfwDacvSjb"
      },
      "source": [
        "df.head(3)"
      ],
      "execution_count": null,
      "outputs": []
    },
    {
      "cell_type": "code",
      "metadata": {
        "id": "_-F4RM_CrDXW"
      },
      "source": [
        "df.info()"
      ],
      "execution_count": null,
      "outputs": []
    },
    {
      "cell_type": "code",
      "metadata": {
        "id": "FjxjIvr7Lw6D"
      },
      "source": [
        "df.CustomerID.nunique()==df.shape[0]"
      ],
      "execution_count": null,
      "outputs": []
    },
    {
      "cell_type": "code",
      "metadata": {
        "id": "-wHWcgrPy0tH"
      },
      "source": [
        "df.columns = [c.strip() for c in df.columns.str.lower().str.replace(' ', '_')]\n",
        "df.columns"
      ],
      "execution_count": null,
      "outputs": []
    },
    {
      "cell_type": "code",
      "metadata": {
        "id": "EDo-YfDye6Jn"
      },
      "source": [
        "df.describe()"
      ],
      "execution_count": null,
      "outputs": []
    },
    {
      "cell_type": "markdown",
      "metadata": {
        "id": "a-gcn0r0fU1Q"
      },
      "source": [
        "**Selecionando as variáveis**"
      ]
    },
    {
      "cell_type": "code",
      "metadata": {
        "id": "Qhr0Gy2kfUcJ"
      },
      "source": [
        "df_var = df[['monetary_value',\t'frequency', 'recency']]"
      ],
      "execution_count": null,
      "outputs": []
    },
    {
      "cell_type": "markdown",
      "metadata": {
        "id": "HpOievKpDWk4"
      },
      "source": [
        "## **Qual o problema?**\n",
        "\n",
        "**Identificação de padrões em um conjunto de dados de clientes - segmentação**"
      ]
    },
    {
      "cell_type": "markdown",
      "metadata": {
        "id": "8zApNBb5PCGi"
      },
      "source": [
        "## **Qual a metodologia?**\n",
        "\n",
        "**RFM - Análise de agrupamento (K-means)**"
      ]
    },
    {
      "cell_type": "markdown",
      "metadata": {
        "id": "wX9h2nZ6Svk4"
      },
      "source": [
        "**Pré-processamento**"
      ]
    },
    {
      "cell_type": "code",
      "metadata": {
        "id": "ZoHzg6TkS0bm"
      },
      "source": [
        "df_scaler = df_var.apply(lambda x: (x-x.mean())/ x.std(), axis=0)"
      ],
      "execution_count": null,
      "outputs": []
    },
    {
      "cell_type": "code",
      "metadata": {
        "id": "DI3xA2PWU1D6"
      },
      "source": [
        "df_scaler.head(2)"
      ],
      "execution_count": null,
      "outputs": []
    },
    {
      "cell_type": "code",
      "metadata": {
        "id": "bmY6-JTZlU-f"
      },
      "source": [
        "df_scaler.mean().round()"
      ],
      "execution_count": null,
      "outputs": []
    },
    {
      "cell_type": "code",
      "metadata": {
        "id": "VGB6RHFYlYm0"
      },
      "source": [
        "df_scaler.std()"
      ],
      "execution_count": null,
      "outputs": []
    },
    {
      "cell_type": "markdown",
      "metadata": {
        "id": "usN1w-7tjcOH"
      },
      "source": [
        "**Identificação da quantidade de clusters ideal**"
      ]
    },
    {
      "cell_type": "code",
      "metadata": {
        "id": "qUHPju7u80Vm"
      },
      "source": [
        "from sklearn.cluster import KMeans\n",
        "from yellowbrick.cluster import KElbowVisualizer"
      ],
      "execution_count": null,
      "outputs": []
    },
    {
      "cell_type": "code",
      "metadata": {
        "id": "zCm4nCqcSmV0"
      },
      "source": [
        "model = KMeans()\n",
        "visualizer = KElbowVisualizer(model, k=(2,15), timings= False)\n",
        "visualizer.fit(df_scaler)    \n",
        "visualizer.show()   "
      ],
      "execution_count": null,
      "outputs": []
    },
    {
      "cell_type": "markdown",
      "metadata": {
        "id": "iYwK6jLzjiYK"
      },
      "source": [
        "**5 clusters escolhidos**"
      ]
    },
    {
      "cell_type": "code",
      "metadata": {
        "id": "hMZkZ-HPSS8D"
      },
      "source": [
        "kmeans = KMeans(n_clusters=5, random_state=12012021).fit(df_scaler)"
      ],
      "execution_count": null,
      "outputs": []
    },
    {
      "cell_type": "markdown",
      "metadata": {
        "id": "Mh_CsP4yWnsK"
      },
      "source": [
        "**Associando o cluster ao dataframe**"
      ]
    },
    {
      "cell_type": "code",
      "metadata": {
        "id": "h9ffwHMhWVkp"
      },
      "source": [
        "df['cluster'] = kmeans.labels_"
      ],
      "execution_count": null,
      "outputs": []
    },
    {
      "cell_type": "code",
      "metadata": {
        "id": "61XTPDrtWjiL"
      },
      "source": [
        "df.head(2)"
      ],
      "execution_count": null,
      "outputs": []
    },
    {
      "cell_type": "code",
      "metadata": {
        "id": "I0IdeTkjSu93"
      },
      "source": [
        "import plotly.express as px\n",
        "\n",
        "fig = px.scatter_3d(\n",
        "    df, x='monetary_value', y='frequency', z='recency', color = 'cluster',\n",
        "    title=f'Separação dos clusters'\n",
        ")\n",
        "\n",
        "fig.show()"
      ],
      "execution_count": null,
      "outputs": []
    },
    {
      "cell_type": "markdown",
      "metadata": {
        "id": "n8Uof0fmi5x9"
      },
      "source": [
        "## **O que fazemos com isso?**"
      ]
    },
    {
      "cell_type": "markdown",
      "metadata": {
        "id": "FspxRyQ8rEWn"
      },
      "source": [
        "**Média dos grupos (centroides)**"
      ]
    },
    {
      "cell_type": "code",
      "metadata": {
        "id": "byD6o2IrYFxg"
      },
      "source": [
        "df['mean_unit_price'] = df['monetary_value']/df['itens_total']\n",
        "df['ticket'] = df['monetary_value']/df['frequency']"
      ],
      "execution_count": null,
      "outputs": []
    },
    {
      "cell_type": "code",
      "metadata": {
        "id": "WmWmvPKuWlCJ"
      },
      "source": [
        "mean_cluster = df[['monetary_value', 'frequency', 'itens_total', \n",
        "                   'recency', 'mean_unit_price', 'cluster',\n",
        "                   'ticket']].groupby(['cluster']).mean()\n",
        "mean_cluster"
      ],
      "execution_count": null,
      "outputs": []
    },
    {
      "cell_type": "code",
      "metadata": {
        "id": "i_eS6f_Cmdsv"
      },
      "source": [
        "df[\"max_date\"] = pd.to_datetime(df[\"max_date\"])"
      ],
      "execution_count": null,
      "outputs": []
    },
    {
      "cell_type": "code",
      "metadata": {
        "id": "-oanyIuMW_5x"
      },
      "source": [
        "df.max_date.max()-df.max_date.min()"
      ],
      "execution_count": null,
      "outputs": []
    },
    {
      "cell_type": "markdown",
      "metadata": {
        "id": "8uV9n4TzrJRm"
      },
      "source": [
        "**Quantidade de clientes**"
      ]
    },
    {
      "cell_type": "code",
      "metadata": {
        "id": "Ho9oHtvqmnOW"
      },
      "source": [
        "df.groupby(['cluster']).size().to_frame('count').sort_values('count', ascending=False)"
      ],
      "execution_count": null,
      "outputs": []
    },
    {
      "cell_type": "markdown",
      "metadata": {
        "id": "__E5UXo-b_h0"
      },
      "source": [
        "**Descrição**"
      ]
    },
    {
      "cell_type": "code",
      "metadata": {
        "id": "I4pEPiqkcB4F"
      },
      "source": [
        "dict_cluster = {0:'Potenciais',\n",
        "1:'Afastados',\n",
        "2:'Fora da curva',\n",
        "3:'Fiéis',\n",
        "4:'Comuns'}\n",
        "\n",
        "df['cluster_desc'] = df['cluster'].map(dict_cluster)"
      ],
      "execution_count": null,
      "outputs": []
    },
    {
      "cell_type": "code",
      "metadata": {
        "id": "Dzn6_lBodNF5"
      },
      "source": [
        "mean_cluster = df[['monetary_value', 'frequency', 'itens_total', \n",
        "                   'recency', 'mean_unit_price', 'cluster_desc',\n",
        "                   'ticket']].groupby(['cluster_desc']).mean()\n",
        "mean_cluster"
      ],
      "execution_count": null,
      "outputs": []
    },
    {
      "cell_type": "markdown",
      "metadata": {
        "id": "alVzW-DUq18J"
      },
      "source": [
        "**Regra 80/20**\n",
        "\n",
        "80% dos efeitos surgem a partir de apenas 20% das causas"
      ]
    },
    {
      "cell_type": "code",
      "metadata": {
        "id": "JH1Gfp8QnQhW"
      },
      "source": [
        "order_df = df.sort_values('monetary_value', ascending=False)\n",
        "order_df['monetary_percent'] = order_df.monetary_value/order_df.monetary_value.sum()\n",
        "order_df['monetary_percent_cumsum'] = order_df.monetary_percent.cumsum()"
      ],
      "execution_count": null,
      "outputs": []
    },
    {
      "cell_type": "code",
      "metadata": {
        "id": "1dndymMVaqap"
      },
      "source": [
        "order_df.head(3)"
      ],
      "execution_count": null,
      "outputs": []
    },
    {
      "cell_type": "code",
      "metadata": {
        "id": "9cd-FYaOpzW9"
      },
      "source": [
        "pareto = order_df[order_df.monetary_percent_cumsum<=0.8].groupby(['cluster_desc']).size().to_frame('count_id')"
      ],
      "execution_count": null,
      "outputs": []
    },
    {
      "cell_type": "code",
      "metadata": {
        "id": "Hh5v73oUqUCA"
      },
      "source": [
        "order_df[order_df.monetary_percent_cumsum<=0.8].shape[0]/order_df.shape[0]"
      ],
      "execution_count": null,
      "outputs": []
    },
    {
      "cell_type": "code",
      "metadata": {
        "id": "lSzaShdvqc81"
      },
      "source": [
        "pareto['% total'] = pareto.count_id/pareto.count_id.sum()*100\n",
        "pareto['% cluster'] = pareto.count_id.div(df.groupby(['cluster_desc']).size())\n",
        "pareto.sort_values('count_id', ascending=False)"
      ],
      "execution_count": null,
      "outputs": []
    },
    {
      "cell_type": "markdown",
      "metadata": {
        "id": "4iMBtXMNLJ2H"
      },
      "source": [
        "**Comparativo da média do cluster com a média geral**"
      ]
    },
    {
      "cell_type": "code",
      "metadata": {
        "id": "fotVPZ19sn3B"
      },
      "source": [
        "mean_var = df[['monetary_value', 'frequency', 'itens_total', \n",
        "                   'recency', 'mean_unit_price', 'ticket']].mean().to_frame('mean_var')\n",
        "mean_var"
      ],
      "execution_count": null,
      "outputs": []
    },
    {
      "cell_type": "code",
      "metadata": {
        "id": "xhhataXGLYXb"
      },
      "source": [
        "mean_cluster.div(mean_var.mean_var.values).transpose().style.applymap(lambda x: 'background-color : red' if x>1 else '')"
      ],
      "execution_count": null,
      "outputs": []
    },
    {
      "cell_type": "markdown",
      "metadata": {
        "id": "YUEONKYMLr9m"
      },
      "source": [
        "**Encaixando novos clientes nos grupos formados**\n",
        "\n",
        "0:'Potenciais'\n",
        "\n",
        "1:'Afastados'\n",
        "\n",
        "2:'Fora da curva'\n",
        "\n",
        "3:'Fiéis'\n",
        "\n",
        "4:'Comuns"
      ]
    },
    {
      "cell_type": "code",
      "metadata": {
        "id": "5bWFPHlrFuHE"
      },
      "source": [
        "new_client = pd.DataFrame({'monetary_value': [50, 10], 'frequency': [10, 2], 'recency':[2, 10]})\n",
        "kmeans.predict(new_client)"
      ],
      "execution_count": null,
      "outputs": []
    }
  ]
}